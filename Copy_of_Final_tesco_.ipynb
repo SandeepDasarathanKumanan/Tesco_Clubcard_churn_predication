{
  "nbformat": 4,
  "nbformat_minor": 0,
  "metadata": {
    "colab": {
      "provenance": []
    },
    "kernelspec": {
      "name": "python3",
      "display_name": "Python 3"
    },
    "language_info": {
      "name": "python"
    }
  },
  "cells": [
    {
      "cell_type": "code",
      "execution_count": null,
      "metadata": {
        "colab": {
          "base_uri": "https://localhost:8080/"
        },
        "id": "W7LAkHF_N9AW",
        "outputId": "23fcb322-e0e4-4fb8-a583-b914603da37a"
      },
      "outputs": [
        {
          "output_type": "stream",
          "name": "stdout",
          "text": [
            "Collecting pyspark\n",
            "  Downloading pyspark-3.4.1.tar.gz (310.8 MB)\n",
            "\u001b[2K     \u001b[90m━━━━━━━━━━━━━━━━━━━━━━━━━━━━━━━━━━━━━━━\u001b[0m \u001b[32m310.8/310.8 MB\u001b[0m \u001b[31m2.0 MB/s\u001b[0m eta \u001b[36m0:00:00\u001b[0m\n",
            "\u001b[?25h  Preparing metadata (setup.py) ... \u001b[?25l\u001b[?25hdone\n",
            "Requirement already satisfied: py4j==0.10.9.7 in /usr/local/lib/python3.10/dist-packages (from pyspark) (0.10.9.7)\n",
            "Building wheels for collected packages: pyspark\n",
            "  Building wheel for pyspark (setup.py) ... \u001b[?25l\u001b[?25hdone\n",
            "  Created wheel for pyspark: filename=pyspark-3.4.1-py2.py3-none-any.whl size=311285388 sha256=22c3c468cbe4ab2200b5cb7a2b5305d6c35c8a4ee55cec70c51b1f5d1e62c749\n",
            "  Stored in directory: /root/.cache/pip/wheels/0d/77/a3/ff2f74cc9ab41f8f594dabf0579c2a7c6de920d584206e0834\n",
            "Successfully built pyspark\n",
            "Installing collected packages: pyspark\n",
            "Successfully installed pyspark-3.4.1\n"
          ]
        }
      ],
      "source": [
        "!pip install pyspark"
      ]
    },
    {
      "cell_type": "code",
      "source": [
        "\n",
        "\n",
        "from pyspark import SparkFiles\n",
        "\n",
        "from pyspark.sql import SparkSession\n",
        "from pyspark.ml import Pipeline\n",
        "from pyspark.ml.feature import StringIndexer, VectorAssembler\n",
        "from pyspark.ml.classification import DecisionTreeClassifier,RandomForestClassifier,LogisticRegression,GBTClassifier\n",
        "from pyspark.ml.evaluation import MulticlassClassificationEvaluator\n",
        "from pyspark.ml.tuning import CrossValidator, ParamGridBuilder"
      ],
      "metadata": {
        "id": "ojL5OianOAca"
      },
      "execution_count": null,
      "outputs": []
    },
    {
      "cell_type": "code",
      "source": [
        "spark = SparkSession.builder.appName(\"Tesco_retail_cub_card\").getOrCreate()"
      ],
      "metadata": {
        "id": "3VN7CCMO_zv7"
      },
      "execution_count": null,
      "outputs": []
    },
    {
      "cell_type": "code",
      "source": [
        "df = spark.read.csv('Tesco.csv',header= True,inferSchema=True)"
      ],
      "metadata": {
        "id": "edWY4HNcOh6L"
      },
      "execution_count": null,
      "outputs": []
    },
    {
      "cell_type": "code",
      "source": [
        "df.show()"
      ],
      "metadata": {
        "colab": {
          "base_uri": "https://localhost:8080/"
        },
        "id": "zMRqDf2Dpy-u",
        "outputId": "97a0c329-2fed-4f26-fce7-5ab30033c5d0"
      },
      "execution_count": null,
      "outputs": [
        {
          "output_type": "stream",
          "name": "stdout",
          "text": [
            "+----------+------+-------------+-------+----------+------+------------+----------------+---------------+-------------------+-------------------+-------------------+-------------------+-------------------+-------------------+--------------+----------------+--------------------+--------------+------------+--------------+\n",
            "|customerID|gender|SeniorCitizen|Partner|Dependents|tenure|PhoneService|   MultipleLines|InternetService|     OnlineSecurity|       OnlineBackup|   DeviceProtection|        TechSupport|        StreamingTV|    StreamingMovies|      Contract|PaperlessBilling|       PaymentMethod|MonthlyCharges|TotalCharges|LeftMembership|\n",
            "+----------+------+-------------+-------+----------+------+------------+----------------+---------------+-------------------+-------------------+-------------------+-------------------+-------------------+-------------------+--------------+----------------+--------------------+--------------+------------+--------------+\n",
            "|7590-VHVEG|Female|            0|    Yes|        No|     1|          No|No phone service|            DSL|                 No|                Yes|                 No|                 No|                 No|                 No|Month-to-month|             Yes|    Electronic check|         29.85|       29.85|            No|\n",
            "|5575-GNVDE|  Male|            0|     No|        No|    34|         Yes|              No|            DSL|                Yes|                 No|                Yes|                 No|                 No|                 No|      One year|              No|        Mailed check|         56.95|      1889.5|            No|\n",
            "|3668-QPYBK|  Male|            0|     No|        No|     2|         Yes|              No|            DSL|                Yes|                Yes|                 No|                 No|                 No|                 No|Month-to-month|             Yes|        Mailed check|         53.85|      108.15|           Yes|\n",
            "|7795-CFOCW|  Male|            0|     No|        No|    45|          No|No phone service|            DSL|                Yes|                 No|                Yes|                Yes|                 No|                 No|      One year|              No|Bank transfer (au...|          42.3|     1840.75|            No|\n",
            "|9237-HQITU|Female|            0|     No|        No|     2|         Yes|              No|    Fiber optic|                 No|                 No|                 No|                 No|                 No|                 No|Month-to-month|             Yes|    Electronic check|          70.7|      151.65|           Yes|\n",
            "|9305-CDSKC|Female|            0|     No|        No|     8|         Yes|             Yes|    Fiber optic|                 No|                 No|                Yes|                 No|                Yes|                Yes|Month-to-month|             Yes|    Electronic check|         99.65|       820.5|           Yes|\n",
            "|1452-KIOVK|  Male|            0|     No|       Yes|    22|         Yes|             Yes|    Fiber optic|                 No|                Yes|                 No|                 No|                Yes|                 No|Month-to-month|             Yes|Credit card (auto...|          89.1|      1949.4|            No|\n",
            "|6713-OKOMC|Female|            0|     No|        No|    10|          No|No phone service|            DSL|                Yes|                 No|                 No|                 No|                 No|                 No|Month-to-month|              No|        Mailed check|         29.75|       301.9|            No|\n",
            "|7892-POOKP|Female|            0|    Yes|        No|    28|         Yes|             Yes|    Fiber optic|                 No|                 No|                Yes|                Yes|                Yes|                Yes|Month-to-month|             Yes|    Electronic check|         104.8|     3046.05|           Yes|\n",
            "|6388-TABGU|  Male|            0|     No|       Yes|    62|         Yes|              No|            DSL|                Yes|                Yes|                 No|                 No|                 No|                 No|      One year|              No|Bank transfer (au...|         56.15|     3487.95|            No|\n",
            "|9763-GRSKD|  Male|            0|    Yes|       Yes|    13|         Yes|              No|            DSL|                Yes|                 No|                 No|                 No|                 No|                 No|Month-to-month|             Yes|        Mailed check|         49.95|      587.45|            No|\n",
            "|7469-LKBCI|  Male|            0|     No|        No|    16|         Yes|              No|             No|No internet service|No internet service|No internet service|No internet service|No internet service|No internet service|      Two year|              No|Credit card (auto...|         18.95|       326.8|            No|\n",
            "|8091-TTVAX|  Male|            0|    Yes|        No|    58|         Yes|             Yes|    Fiber optic|                 No|                 No|                Yes|                 No|                Yes|                Yes|      One year|              No|Credit card (auto...|        100.35|      5681.1|            No|\n",
            "|0280-XJGEX|  Male|            0|     No|        No|    49|         Yes|             Yes|    Fiber optic|                 No|                Yes|                Yes|                 No|                Yes|                Yes|Month-to-month|             Yes|Bank transfer (au...|         103.7|      5036.3|           Yes|\n",
            "|5129-JLPIS|  Male|            0|     No|        No|    25|         Yes|              No|    Fiber optic|                Yes|                 No|                Yes|                Yes|                Yes|                Yes|Month-to-month|             Yes|    Electronic check|         105.5|     2686.05|            No|\n",
            "|3655-SNQYZ|Female|            0|    Yes|       Yes|    69|         Yes|             Yes|    Fiber optic|                Yes|                Yes|                Yes|                Yes|                Yes|                Yes|      Two year|              No|Credit card (auto...|        113.25|     7895.15|            No|\n",
            "|8191-XWSZG|Female|            0|     No|        No|    52|         Yes|              No|             No|No internet service|No internet service|No internet service|No internet service|No internet service|No internet service|      One year|              No|        Mailed check|         20.65|     1022.95|            No|\n",
            "|9959-WOFKT|  Male|            0|     No|       Yes|    71|         Yes|             Yes|    Fiber optic|                Yes|                 No|                Yes|                 No|                Yes|                Yes|      Two year|              No|Bank transfer (au...|         106.7|     7382.25|            No|\n",
            "|4190-MFLUW|Female|            0|    Yes|       Yes|    10|         Yes|              No|            DSL|                 No|                 No|                Yes|                Yes|                 No|                 No|Month-to-month|              No|Credit card (auto...|          55.2|      528.35|           Yes|\n",
            "|4183-MYFRB|Female|            0|     No|        No|    21|         Yes|              No|    Fiber optic|                 No|                Yes|                Yes|                 No|                 No|                Yes|Month-to-month|             Yes|    Electronic check|         90.05|      1862.9|            No|\n",
            "+----------+------+-------------+-------+----------+------+------------+----------------+---------------+-------------------+-------------------+-------------------+-------------------+-------------------+-------------------+--------------+----------------+--------------------+--------------+------------+--------------+\n",
            "only showing top 20 rows\n",
            "\n"
          ]
        }
      ]
    },
    {
      "cell_type": "code",
      "source": [
        "type(df)"
      ],
      "metadata": {
        "colab": {
          "base_uri": "https://localhost:8080/"
        },
        "id": "sN-la3E80_eJ",
        "outputId": "d63bbe21-27d2-4628-f4db-6f2db2716419"
      },
      "execution_count": null,
      "outputs": [
        {
          "output_type": "execute_result",
          "data": {
            "text/plain": [
              "pyspark.sql.dataframe.DataFrame"
            ]
          },
          "metadata": {},
          "execution_count": 6
        }
      ]
    },
    {
      "cell_type": "code",
      "source": [
        "df.schema.names"
      ],
      "metadata": {
        "colab": {
          "base_uri": "https://localhost:8080/"
        },
        "id": "xtk_mnt10MEg",
        "outputId": "109649c3-6082-4dbb-b2d7-5801e8b3d096"
      },
      "execution_count": null,
      "outputs": [
        {
          "output_type": "execute_result",
          "data": {
            "text/plain": [
              "['customerID',\n",
              " 'gender',\n",
              " 'SeniorCitizen',\n",
              " 'Partner',\n",
              " 'Dependents',\n",
              " 'tenure',\n",
              " 'PhoneService',\n",
              " 'MultipleLines',\n",
              " 'InternetService',\n",
              " 'OnlineSecurity',\n",
              " 'OnlineBackup',\n",
              " 'DeviceProtection',\n",
              " 'TechSupport',\n",
              " 'StreamingTV',\n",
              " 'StreamingMovies',\n",
              " 'Contract',\n",
              " 'PaperlessBilling',\n",
              " 'PaymentMethod',\n",
              " 'MonthlyCharges',\n",
              " 'TotalCharges',\n",
              " 'LeftMembership']"
            ]
          },
          "metadata": {},
          "execution_count": 7
        }
      ]
    },
    {
      "cell_type": "code",
      "source": [
        "df.printSchema()"
      ],
      "metadata": {
        "colab": {
          "base_uri": "https://localhost:8080/"
        },
        "id": "e6bLvB2c0179",
        "outputId": "35eadf6d-c452-46c0-ee69-4391b20dcc6d"
      },
      "execution_count": null,
      "outputs": [
        {
          "output_type": "stream",
          "name": "stdout",
          "text": [
            "root\n",
            " |-- customerID: string (nullable = true)\n",
            " |-- gender: string (nullable = true)\n",
            " |-- SeniorCitizen: integer (nullable = true)\n",
            " |-- Partner: string (nullable = true)\n",
            " |-- Dependents: string (nullable = true)\n",
            " |-- tenure: integer (nullable = true)\n",
            " |-- PhoneService: string (nullable = true)\n",
            " |-- MultipleLines: string (nullable = true)\n",
            " |-- InternetService: string (nullable = true)\n",
            " |-- OnlineSecurity: string (nullable = true)\n",
            " |-- OnlineBackup: string (nullable = true)\n",
            " |-- DeviceProtection: string (nullable = true)\n",
            " |-- TechSupport: string (nullable = true)\n",
            " |-- StreamingTV: string (nullable = true)\n",
            " |-- StreamingMovies: string (nullable = true)\n",
            " |-- Contract: string (nullable = true)\n",
            " |-- PaperlessBilling: string (nullable = true)\n",
            " |-- PaymentMethod: string (nullable = true)\n",
            " |-- MonthlyCharges: double (nullable = true)\n",
            " |-- TotalCharges: string (nullable = true)\n",
            " |-- LeftMembership: string (nullable = true)\n",
            "\n"
          ]
        }
      ]
    },
    {
      "cell_type": "code",
      "source": [
        "df.count()"
      ],
      "metadata": {
        "colab": {
          "base_uri": "https://localhost:8080/"
        },
        "id": "nDhkWJ60kDrs",
        "outputId": "847a67d3-f390-4c26-eeb6-2c147edc04ac"
      },
      "execution_count": null,
      "outputs": [
        {
          "output_type": "execute_result",
          "data": {
            "text/plain": [
              "7043"
            ]
          },
          "metadata": {},
          "execution_count": 9
        }
      ]
    },
    {
      "cell_type": "code",
      "source": [
        "from pyspark.sql.functions import isnan, when,col,count\n",
        "df_null = df.select([count(when(col(c).isNull(),c)).alias(c) for c in df.columns])\n",
        "df_null.show()"
      ],
      "metadata": {
        "colab": {
          "base_uri": "https://localhost:8080/"
        },
        "id": "ZTHm7p5DoE17",
        "outputId": "80b52445-c1c8-4589-e81d-54609d630434"
      },
      "execution_count": null,
      "outputs": [
        {
          "output_type": "stream",
          "name": "stdout",
          "text": [
            "+----------+------+-------------+-------+----------+------+------------+-------------+---------------+--------------+------------+----------------+-----------+-----------+---------------+--------+----------------+-------------+--------------+------------+--------------+\n",
            "|customerID|gender|SeniorCitizen|Partner|Dependents|tenure|PhoneService|MultipleLines|InternetService|OnlineSecurity|OnlineBackup|DeviceProtection|TechSupport|StreamingTV|StreamingMovies|Contract|PaperlessBilling|PaymentMethod|MonthlyCharges|TotalCharges|LeftMembership|\n",
            "+----------+------+-------------+-------+----------+------+------------+-------------+---------------+--------------+------------+----------------+-----------+-----------+---------------+--------+----------------+-------------+--------------+------------+--------------+\n",
            "|         0|     0|            0|      0|         0|     0|           0|            0|              0|             0|           0|               0|          0|          0|              0|       0|               0|            0|             0|           0|             0|\n",
            "+----------+------+-------------+-------+----------+------+------------+-------------+---------------+--------------+------------+----------------+-----------+-----------+---------------+--------+----------------+-------------+--------------+------------+--------------+\n",
            "\n"
          ]
        }
      ]
    },
    {
      "cell_type": "code",
      "source": [],
      "metadata": {
        "id": "1Jw6xJKtoPCi"
      },
      "execution_count": null,
      "outputs": []
    },
    {
      "cell_type": "code",
      "source": [
        "stringIndexer  = StringIndexer(inputCols=['gender','SeniorCitizen','Partner','Dependents','PhoneService','MultipleLines','InternetService','OnlineSecurity','OnlineBackup','DeviceProtection','TechSupport','StreamingTV','StreamingMovies','PaperlessBilling','LeftMembership'],\n",
        "                               outputCols=['gender_inedx','SeniorCitizen_index','Partner_index','Dependents_index','PhoneService_index','MultipleLines_index','InternetService_index','OnlineSecurity_index','OnlineBackup_index','DeviceProtection_index','TechSupport_index','StreamingTV_index','StreamingMovies_index','PaperlessBilling_index','label'])"
      ],
      "metadata": {
        "id": "aLnRm10JPE9W"
      },
      "execution_count": null,
      "outputs": []
    },
    {
      "cell_type": "code",
      "source": [],
      "metadata": {
        "id": "7lPuiA5jp4Ff"
      },
      "execution_count": null,
      "outputs": []
    },
    {
      "cell_type": "code",
      "source": [
        "assembler=VectorAssembler(inputCols=['gender_inedx','SeniorCitizen_index','Partner_index','Dependents_index','PhoneService_index','MultipleLines_index','InternetService_index','OnlineSecurity_index','OnlineBackup_index','DeviceProtection_index','TechSupport_index','StreamingTV_index','StreamingMovies_index','PaperlessBilling_index'],\n",
        "                          outputCol='features')"
      ],
      "metadata": {
        "id": "5IHGFU28drfi"
      },
      "execution_count": null,
      "outputs": []
    },
    {
      "cell_type": "code",
      "source": [],
      "metadata": {
        "id": "MBEZucVF1PMO"
      },
      "execution_count": null,
      "outputs": []
    },
    {
      "cell_type": "code",
      "source": [],
      "metadata": {
        "id": "BoVVYg-mnEoF"
      },
      "execution_count": null,
      "outputs": []
    },
    {
      "cell_type": "markdown",
      "source": [
        "#Train and Test Split"
      ],
      "metadata": {
        "id": "i9mHO6oJHUOv"
      }
    },
    {
      "cell_type": "code",
      "source": [
        "train_data, test_data = df.randomSplit([0.7, 0.3], seed=42)"
      ],
      "metadata": {
        "id": "7_ykNcLkdqoM"
      },
      "execution_count": null,
      "outputs": []
    },
    {
      "cell_type": "code",
      "source": [
        "train_data.show()"
      ],
      "metadata": {
        "colab": {
          "base_uri": "https://localhost:8080/"
        },
        "id": "ITf05tjDqG6I",
        "outputId": "e0ea0b6c-be77-4deb-a7ca-8f28aa8fd679"
      },
      "execution_count": null,
      "outputs": [
        {
          "output_type": "stream",
          "name": "stdout",
          "text": [
            "+----------+------+-------------+-------+----------+------+------------+----------------+---------------+-------------------+-------------------+-------------------+-------------------+-------------------+-------------------+--------------+----------------+--------------------+--------------+------------+--------------+\n",
            "|customerID|gender|SeniorCitizen|Partner|Dependents|tenure|PhoneService|   MultipleLines|InternetService|     OnlineSecurity|       OnlineBackup|   DeviceProtection|        TechSupport|        StreamingTV|    StreamingMovies|      Contract|PaperlessBilling|       PaymentMethod|MonthlyCharges|TotalCharges|LeftMembership|\n",
            "+----------+------+-------------+-------+----------+------+------------+----------------+---------------+-------------------+-------------------+-------------------+-------------------+-------------------+-------------------+--------------+----------------+--------------------+--------------+------------+--------------+\n",
            "|0002-ORFBO|Female|            0|    Yes|       Yes|     9|         Yes|              No|            DSL|                 No|                Yes|                 No|                Yes|                Yes|                 No|      One year|             Yes|        Mailed check|          65.6|       593.3|            No|\n",
            "|0003-MKNFE|  Male|            0|     No|        No|     9|         Yes|             Yes|            DSL|                 No|                 No|                 No|                 No|                 No|                Yes|Month-to-month|              No|        Mailed check|          59.9|       542.4|            No|\n",
            "|0011-IGKFF|  Male|            1|    Yes|        No|    13|         Yes|              No|    Fiber optic|                 No|                Yes|                Yes|                 No|                Yes|                Yes|Month-to-month|             Yes|    Electronic check|          98.0|     1237.85|           Yes|\n",
            "|0013-EXCHZ|Female|            1|    Yes|        No|     3|         Yes|              No|    Fiber optic|                 No|                 No|                 No|                Yes|                Yes|                 No|Month-to-month|             Yes|        Mailed check|          83.9|       267.4|           Yes|\n",
            "|0013-MHZWF|Female|            0|     No|       Yes|     9|         Yes|              No|            DSL|                 No|                 No|                 No|                Yes|                Yes|                Yes|Month-to-month|             Yes|Credit card (auto...|          69.4|      571.45|            No|\n",
            "|0014-BMAQU|  Male|            0|    Yes|        No|    63|         Yes|             Yes|    Fiber optic|                Yes|                 No|                 No|                Yes|                 No|                 No|      Two year|             Yes|Credit card (auto...|         84.65|      5377.8|            No|\n",
            "|0017-DINOC|  Male|            0|     No|        No|    54|          No|No phone service|            DSL|                Yes|                 No|                 No|                Yes|                Yes|                 No|      Two year|              No|Credit card (auto...|          45.2|     2460.55|            No|\n",
            "|0017-IUDMW|Female|            0|    Yes|       Yes|    72|         Yes|             Yes|    Fiber optic|                Yes|                Yes|                Yes|                Yes|                Yes|                Yes|      Two year|             Yes|Credit card (auto...|         116.8|     8456.75|            No|\n",
            "|0018-NYROU|Female|            0|    Yes|        No|     5|         Yes|              No|    Fiber optic|                 No|                 No|                 No|                 No|                 No|                 No|Month-to-month|             Yes|    Electronic check|         68.95|       351.5|            No|\n",
            "|0020-JDNXP|Female|            0|    Yes|       Yes|    34|          No|No phone service|            DSL|                Yes|                 No|                Yes|                Yes|                Yes|                Yes|      One year|              No|        Mailed check|         61.25|      1993.2|            No|\n",
            "|0021-IKXGC|Female|            1|     No|        No|     1|         Yes|             Yes|    Fiber optic|                 No|                 No|                 No|                 No|                 No|                 No|Month-to-month|             Yes|    Electronic check|          72.1|        72.1|            No|\n",
            "|0022-TCJCI|  Male|            1|     No|        No|    45|         Yes|              No|            DSL|                Yes|                 No|                Yes|                 No|                 No|                Yes|      One year|              No|Credit card (auto...|          62.7|      2791.5|           Yes|\n",
            "|0023-UYUPN|Female|            1|    Yes|        No|    50|         Yes|             Yes|             No|No internet service|No internet service|No internet service|No internet service|No internet service|No internet service|      One year|              No|    Electronic check|          25.2|      1306.3|            No|\n",
            "|0027-KWYKW|Female|            0|    Yes|       Yes|    23|         Yes|             Yes|    Fiber optic|                 No|                 No|                 No|                 No|                Yes|                 No|Month-to-month|             Yes|    Electronic check|         83.75|     1849.95|            No|\n",
            "|0032-PGELS|Female|            0|    Yes|       Yes|     1|          No|No phone service|            DSL|                Yes|                 No|                 No|                 No|                 No|                 No|Month-to-month|              No|Bank transfer (au...|          30.5|        30.5|           Yes|\n",
            "|0036-IHMOT|Female|            0|    Yes|       Yes|    55|         Yes|              No|    Fiber optic|                 No|                Yes|                Yes|                Yes|                Yes|                Yes|      One year|             Yes|Bank transfer (au...|         103.7|     5656.75|            No|\n",
            "|0040-HALCW|  Male|            0|    Yes|       Yes|    54|         Yes|              No|             No|No internet service|No internet service|No internet service|No internet service|No internet service|No internet service|      Two year|              No|Credit card (auto...|          20.4|      1090.6|            No|\n",
            "|0048-PIHNL|Female|            0|    Yes|        No|    49|         Yes|              No|             No|No internet service|No internet service|No internet service|No internet service|No internet service|No internet service|      One year|              No|Bank transfer (au...|         20.45|       900.9|            No|\n",
            "|0052-YNYOT|Female|            0|     No|        No|    67|         Yes|              No|             No|No internet service|No internet service|No internet service|No internet service|No internet service|No internet service|      One year|              No|    Electronic check|         20.55|      1343.4|            No|\n",
            "|0058-EVZWM|Female|            0|    Yes|        No|    55|         Yes|             Yes|    Fiber optic|                Yes|                 No|                 No|                 No|                Yes|                 No|Month-to-month|             Yes|Bank transfer (au...|          89.8|      4959.6|            No|\n",
            "+----------+------+-------------+-------+----------+------+------------+----------------+---------------+-------------------+-------------------+-------------------+-------------------+-------------------+-------------------+--------------+----------------+--------------------+--------------+------------+--------------+\n",
            "only showing top 20 rows\n",
            "\n"
          ]
        }
      ]
    },
    {
      "cell_type": "code",
      "source": [
        "test_data.show(10)"
      ],
      "metadata": {
        "colab": {
          "base_uri": "https://localhost:8080/"
        },
        "id": "9T3bydPgwaNa",
        "outputId": "3f6658e3-4391-43c0-b8a0-e718c6ae8a3d"
      },
      "execution_count": null,
      "outputs": [
        {
          "output_type": "stream",
          "name": "stdout",
          "text": [
            "+----------+------+-------------+-------+----------+------+------------+----------------+---------------+-------------------+-------------------+-------------------+-------------------+-------------------+-------------------+--------------+----------------+--------------------+--------------+------------+--------------+\n",
            "|customerID|gender|SeniorCitizen|Partner|Dependents|tenure|PhoneService|   MultipleLines|InternetService|     OnlineSecurity|       OnlineBackup|   DeviceProtection|        TechSupport|        StreamingTV|    StreamingMovies|      Contract|PaperlessBilling|       PaymentMethod|MonthlyCharges|TotalCharges|LeftMembership|\n",
            "+----------+------+-------------+-------+----------+------+------------+----------------+---------------+-------------------+-------------------+-------------------+-------------------+-------------------+-------------------+--------------+----------------+--------------------+--------------+------------+--------------+\n",
            "|0004-TLHLJ|  Male|            0|     No|        No|     4|         Yes|              No|    Fiber optic|                 No|                 No|                Yes|                 No|                 No|                 No|Month-to-month|             Yes|    Electronic check|          73.9|      280.85|           Yes|\n",
            "|0013-SMEOE|Female|            1|    Yes|        No|    71|         Yes|              No|    Fiber optic|                Yes|                Yes|                Yes|                Yes|                Yes|                Yes|      Two year|             Yes|Bank transfer (au...|         109.7|     7904.25|            No|\n",
            "|0015-UOCOJ|Female|            1|     No|        No|     7|         Yes|              No|            DSL|                Yes|                 No|                 No|                 No|                 No|                 No|Month-to-month|             Yes|    Electronic check|          48.2|      340.35|            No|\n",
            "|0016-QLJIS|Female|            0|    Yes|       Yes|    65|         Yes|             Yes|            DSL|                Yes|                Yes|                Yes|                Yes|                Yes|                Yes|      Two year|             Yes|        Mailed check|         90.45|      5957.9|            No|\n",
            "|0019-EFAEP|Female|            0|     No|        No|    72|         Yes|             Yes|    Fiber optic|                Yes|                Yes|                Yes|                 No|                Yes|                 No|      Two year|             Yes|Bank transfer (au...|         101.3|     7261.25|            No|\n",
            "|0019-GFNTW|Female|            0|     No|        No|    56|          No|No phone service|            DSL|                Yes|                Yes|                Yes|                Yes|                 No|                 No|      Two year|              No|Bank transfer (au...|         45.05|      2560.1|            No|\n",
            "|0020-INWCK|Female|            0|    Yes|       Yes|    71|         Yes|             Yes|    Fiber optic|                 No|                Yes|                Yes|                 No|                 No|                Yes|      Two year|             Yes|Credit card (auto...|         95.75|      6849.4|            No|\n",
            "|0023-HGHWL|  Male|            1|     No|        No|     1|          No|No phone service|            DSL|                 No|                 No|                 No|                 No|                 No|                 No|Month-to-month|             Yes|    Electronic check|          25.1|        25.1|           Yes|\n",
            "|0023-XUOPT|Female|            0|    Yes|        No|    13|         Yes|             Yes|    Fiber optic|                 No|                Yes|                Yes|                 No|                Yes|                 No|Month-to-month|              No|    Electronic check|          94.1|      1215.6|           Yes|\n",
            "|0030-FNXPP|Female|            0|     No|        No|     3|         Yes|              No|             No|No internet service|No internet service|No internet service|No internet service|No internet service|No internet service|Month-to-month|              No|        Mailed check|         19.85|        57.2|            No|\n",
            "+----------+------+-------------+-------+----------+------+------------+----------------+---------------+-------------------+-------------------+-------------------+-------------------+-------------------+-------------------+--------------+----------------+--------------------+--------------+------------+--------------+\n",
            "only showing top 10 rows\n",
            "\n"
          ]
        }
      ]
    },
    {
      "cell_type": "markdown",
      "source": [
        "#Decision Tress"
      ],
      "metadata": {
        "id": "PTQmZUmOHPtf"
      }
    },
    {
      "cell_type": "code",
      "source": [
        "dt = DecisionTreeClassifier(labelCol='label', featuresCol='features')"
      ],
      "metadata": {
        "id": "hJioDB7Pd0-e"
      },
      "execution_count": null,
      "outputs": []
    },
    {
      "cell_type": "code",
      "source": [
        "pipeline = Pipeline(stages=[stringIndexer, assembler, dt])"
      ],
      "metadata": {
        "id": "SnvwSoTnRtLt"
      },
      "execution_count": null,
      "outputs": []
    },
    {
      "cell_type": "code",
      "source": [
        "paramGrid = ParamGridBuilder() \\\n",
        "    .addGrid(dt.maxDepth, [3, 5, 7]) \\\n",
        "    .addGrid(dt.minInstancesPerNode, [1, 3, 5]) \\\n",
        "    .build()"
      ],
      "metadata": {
        "id": "Ln5jpz6sR8qg"
      },
      "execution_count": null,
      "outputs": []
    },
    {
      "cell_type": "code",
      "source": [
        "crossval = CrossValidator(estimator=pipeline, estimatorParamMaps=paramGrid,\n",
        "                      evaluator=MulticlassClassificationEvaluator(\n",
        "                      labelCol='label', predictionCol='prediction', metricName='accuracy'),\n",
        "                      numFolds=5)"
      ],
      "metadata": {
        "id": "5n4zsxdQTk02"
      },
      "execution_count": null,
      "outputs": []
    },
    {
      "cell_type": "code",
      "source": [
        "cvModel = crossval.fit(train_data)"
      ],
      "metadata": {
        "id": "pGC4L45EWVgU"
      },
      "execution_count": null,
      "outputs": []
    },
    {
      "cell_type": "code",
      "source": [
        "best_model = cvModel.bestModel"
      ],
      "metadata": {
        "id": "2fvcNcLwXebQ"
      },
      "execution_count": null,
      "outputs": []
    },
    {
      "cell_type": "code",
      "source": [
        "predictions = best_model.transform(test_data)"
      ],
      "metadata": {
        "id": "H5qnrVjcXjpG"
      },
      "execution_count": null,
      "outputs": []
    },
    {
      "cell_type": "code",
      "source": [
        "predictions.select(\"prediction\", \"label\", \"features\").show(5)"
      ],
      "metadata": {
        "colab": {
          "base_uri": "https://localhost:8080/"
        },
        "id": "hXYJ7KKl3vX8",
        "outputId": "9f2b1b86-ff7b-4579-ed8d-5d6e5c2d823d"
      },
      "execution_count": null,
      "outputs": [
        {
          "output_type": "stream",
          "name": "stdout",
          "text": [
            "+----------+-----+--------------------+\n",
            "|prediction|label|            features|\n",
            "+----------+-----+--------------------+\n",
            "|       1.0|  1.0|      (14,[9],[1.0])|\n",
            "|       0.0|  0.0|[1.0,1.0,1.0,0.0,...|\n",
            "|       0.0|  0.0|(14,[0,1,6,7],[1....|\n",
            "|       0.0|  0.0|[1.0,0.0,1.0,1.0,...|\n",
            "|       0.0|  0.0|(14,[0,5,7,8,9,11...|\n",
            "+----------+-----+--------------------+\n",
            "only showing top 5 rows\n",
            "\n"
          ]
        }
      ]
    },
    {
      "cell_type": "code",
      "source": [
        "evaluator = MulticlassClassificationEvaluator(labelCol=\"label\", predictionCol=\"prediction\", metricName=\"accuracy\")\n",
        "accuracy1 = evaluator.evaluate(predictions)"
      ],
      "metadata": {
        "id": "rv6nDsxMYMzZ"
      },
      "execution_count": null,
      "outputs": []
    },
    {
      "cell_type": "code",
      "source": [
        "print(f\"DecisionTree Test Accuracy: \",accuracy1)\n",
        "print(\"Test Error = %g\" % (1.0 - accuracy1))"
      ],
      "metadata": {
        "colab": {
          "base_uri": "https://localhost:8080/"
        },
        "id": "fei7paPiZvNi",
        "outputId": "e6d44723-ba2d-4888-f294-979174f26677"
      },
      "execution_count": null,
      "outputs": [
        {
          "output_type": "stream",
          "name": "stdout",
          "text": [
            "DecisionTree Test Accuracy:  0.7653213751868461\n",
            "Test Error = 0.234679\n"
          ]
        }
      ]
    },
    {
      "cell_type": "code",
      "source": [
        "evaluator = MulticlassClassificationEvaluator(labelCol=\"label\", predictionCol=\"prediction\",metricName=\"f1\")\n",
        "f1_dt = evaluator.evaluate(predictions)\n",
        "print(\"f1 for Decision Tree Classifier:\", f1_dt)"
      ],
      "metadata": {
        "colab": {
          "base_uri": "https://localhost:8080/"
        },
        "id": "iOae3176vb-K",
        "outputId": "79995712-0a1f-47cf-947c-2e5c83495b89"
      },
      "execution_count": null,
      "outputs": [
        {
          "output_type": "stream",
          "name": "stdout",
          "text": [
            "f1 for Decision Tree Classifier: 0.7458719582506969\n"
          ]
        }
      ]
    },
    {
      "cell_type": "code",
      "source": [
        "evaluator = MulticlassClassificationEvaluator(labelCol=\"label\", predictionCol=\"prediction\",metricName=\"weightedPrecision\")\n",
        "weightedPrecision_dt = evaluator.evaluate(predictions)\n",
        "print(\"weightedPrecision for Decision Tree Classifier:\", weightedPrecision_dt)"
      ],
      "metadata": {
        "colab": {
          "base_uri": "https://localhost:8080/"
        },
        "id": "9E1wNpODvbxB",
        "outputId": "25ffad31-a816-4f7d-a24e-e847ef0b76c0"
      },
      "execution_count": null,
      "outputs": [
        {
          "output_type": "stream",
          "name": "stdout",
          "text": [
            "weightedPrecision for Decision Tree Classifier: 0.7445230723434431\n"
          ]
        }
      ]
    },
    {
      "cell_type": "code",
      "source": [
        "evaluator = MulticlassClassificationEvaluator(labelCol=\"label\", predictionCol=\"prediction\",metricName=\"weightedRecall\")\n",
        "weightedRecall_dt = evaluator.evaluate(predictions)\n",
        "print(\"weightedRecall for Decision Tree Classifier:\", weightedRecall_dt)"
      ],
      "metadata": {
        "colab": {
          "base_uri": "https://localhost:8080/"
        },
        "id": "DtfnCh1evbsB",
        "outputId": "4899ca8a-d886-4756-98f3-25260e7b9ae3"
      },
      "execution_count": null,
      "outputs": [
        {
          "output_type": "stream",
          "name": "stdout",
          "text": [
            "weightedRecall for Decision Tree Classifier: 0.7653213751868461\n"
          ]
        }
      ]
    },
    {
      "cell_type": "code",
      "source": [
        "print(\"Accuracy: \",accuracy1)\n",
        "print(\"f1 for Decision Tree Classifier:\", f1_dt)\n",
        "print(\"weightedPrecision for Decision Tree Classifier:\", weightedPrecision_dt)\n",
        "print(\"weightedRecall for Decision Tree Classifier:\", weightedRecall_dt)"
      ],
      "metadata": {
        "colab": {
          "base_uri": "https://localhost:8080/"
        },
        "id": "GTPF3yHSvbdO",
        "outputId": "31c6e6df-ae09-4fd8-f8d0-549a1586b698"
      },
      "execution_count": null,
      "outputs": [
        {
          "output_type": "stream",
          "name": "stdout",
          "text": [
            "Accuracy:  0.7653213751868461\n",
            "f1 for Decision Tree Classifier: 0.7458719582506969\n",
            "weightedPrecision for Decision Tree Classifier: 0.7445230723434431\n",
            "weightedRecall for Decision Tree Classifier: 0.7653213751868461\n"
          ]
        }
      ]
    },
    {
      "cell_type": "markdown",
      "source": [
        "#Random Forest"
      ],
      "metadata": {
        "id": "i5nbkTTAHMZw"
      }
    },
    {
      "cell_type": "code",
      "source": [
        "rf = RandomForestClassifier(labelCol=\"label\", featuresCol=\"features\")"
      ],
      "metadata": {
        "id": "KzXWQ3fGDF9r"
      },
      "execution_count": null,
      "outputs": []
    },
    {
      "cell_type": "code",
      "source": [
        "pipeline1 = Pipeline(stages=[stringIndexer, assembler, rf])"
      ],
      "metadata": {
        "id": "oTEsLkpQCp3N",
        "colab": {
          "base_uri": "https://localhost:8080/",
          "height": 179
        },
        "outputId": "bdaf65ee-4622-463a-a091-5eaed8984bc5"
      },
      "execution_count": null,
      "outputs": [
        {
          "output_type": "error",
          "ename": "NameError",
          "evalue": "ignored",
          "traceback": [
            "\u001b[0;31m---------------------------------------------------------------------------\u001b[0m",
            "\u001b[0;31mNameError\u001b[0m                                 Traceback (most recent call last)",
            "\u001b[0;32m<ipython-input-1-05f0946107c2>\u001b[0m in \u001b[0;36m<cell line: 1>\u001b[0;34m()\u001b[0m\n\u001b[0;32m----> 1\u001b[0;31m \u001b[0mpipeline1\u001b[0m \u001b[0;34m=\u001b[0m \u001b[0mPipeline\u001b[0m\u001b[0;34m(\u001b[0m\u001b[0mstages\u001b[0m\u001b[0;34m=\u001b[0m\u001b[0;34m[\u001b[0m\u001b[0mstringIndexer\u001b[0m\u001b[0;34m,\u001b[0m \u001b[0massembler\u001b[0m\u001b[0;34m,\u001b[0m \u001b[0mrf\u001b[0m\u001b[0;34m]\u001b[0m\u001b[0;34m)\u001b[0m\u001b[0;34m\u001b[0m\u001b[0;34m\u001b[0m\u001b[0m\n\u001b[0m",
            "\u001b[0;31mNameError\u001b[0m: name 'Pipeline' is not defined"
          ]
        }
      ]
    },
    {
      "cell_type": "code",
      "source": [
        "paramGrid1 = ParamGridBuilder() \\\n",
        "    .addGrid(rf.numTrees, [10, 20, 30]) \\\n",
        "    .addGrid(rf.maxDepth, [5, 10, 15]) \\\n",
        "    .build()"
      ],
      "metadata": {
        "id": "TTwS0t09C3HR"
      },
      "execution_count": null,
      "outputs": []
    },
    {
      "cell_type": "code",
      "source": [
        "cross_validator1 = CrossValidator(estimator=pipeline1,\n",
        "                          estimatorParamMaps=paramGrid1,\n",
        "                          evaluator=MulticlassClassificationEvaluator(labelCol=\"label\", metricName=\"accuracy\"),\n",
        "                          numFolds=5, seed=42)"
      ],
      "metadata": {
        "id": "MOEBrO7iC3Dd"
      },
      "execution_count": null,
      "outputs": []
    },
    {
      "cell_type": "code",
      "source": [
        "cv_model1 = cross_validator1.fit(train_data)"
      ],
      "metadata": {
        "id": "dEd3qFMeC3BC"
      },
      "execution_count": null,
      "outputs": []
    },
    {
      "cell_type": "code",
      "source": [
        "predictions = cv_model1.transform(test_data)"
      ],
      "metadata": {
        "id": "iVWE_I8rC2-U"
      },
      "execution_count": null,
      "outputs": []
    },
    {
      "cell_type": "code",
      "source": [
        "predictions.select(\"prediction\", \"label\", \"features\").show(5)"
      ],
      "metadata": {
        "colab": {
          "base_uri": "https://localhost:8080/"
        },
        "id": "NqsVsOaT3kqi",
        "outputId": "02df40c3-12a1-4b9a-c93e-95cdac64a2c1"
      },
      "execution_count": null,
      "outputs": [
        {
          "output_type": "stream",
          "name": "stdout",
          "text": [
            "+----------+-----+--------------------+\n",
            "|prediction|label|            features|\n",
            "+----------+-----+--------------------+\n",
            "|       1.0|  1.0|      (14,[9],[1.0])|\n",
            "|       0.0|  0.0|[1.0,1.0,1.0,0.0,...|\n",
            "|       0.0|  0.0|(14,[0,1,6,7],[1....|\n",
            "|       0.0|  0.0|[1.0,0.0,1.0,1.0,...|\n",
            "|       0.0|  0.0|(14,[0,5,7,8,9,11...|\n",
            "+----------+-----+--------------------+\n",
            "only showing top 5 rows\n",
            "\n"
          ]
        }
      ]
    },
    {
      "cell_type": "code",
      "source": [
        "evaluator2 = MulticlassClassificationEvaluator(labelCol=\"label\", metricName=\"accuracy\")"
      ],
      "metadata": {
        "id": "6cDL9pY7C27t"
      },
      "execution_count": null,
      "outputs": []
    },
    {
      "cell_type": "code",
      "source": [
        "accuracy2 = evaluator2.evaluate(predictions)\n",
        "print(\"Random Forest accuracy = \",accuracy2)\n",
        "print(\"Test Error= %g\" %(1.0-accuracy2))"
      ],
      "metadata": {
        "colab": {
          "base_uri": "https://localhost:8080/"
        },
        "id": "UULM0SXvC25M",
        "outputId": "549a127c-e051-497a-94b9-d5f5ca170566"
      },
      "execution_count": null,
      "outputs": [
        {
          "output_type": "stream",
          "name": "stdout",
          "text": [
            "Random Forest accuracy =  0.772795216741405\n",
            "Test Error= 0.227205\n"
          ]
        }
      ]
    },
    {
      "cell_type": "code",
      "source": [
        "evaluator2 = MulticlassClassificationEvaluator(labelCol=\"label\", predictionCol=\"prediction\",metricName=\"f1\")\n",
        "f1_rf = evaluator2.evaluate(predictions)\n",
        "print(\"f1 for Random Forest Classifier:\", f1_rf)"
      ],
      "metadata": {
        "colab": {
          "base_uri": "https://localhost:8080/"
        },
        "id": "vEr9pkrpuxr-",
        "outputId": "a387bd3f-7645-4cf1-f909-f36ca5b493fc"
      },
      "execution_count": null,
      "outputs": [
        {
          "output_type": "stream",
          "name": "stdout",
          "text": [
            "f1 for Random Forest Classifier: 0.7450644275837307\n"
          ]
        }
      ]
    },
    {
      "cell_type": "code",
      "source": [
        "evaluator2 = MulticlassClassificationEvaluator(labelCol=\"label\", predictionCol=\"prediction\",metricName=\"weightedPrecision\")\n",
        "weightedPrecision_rf = evaluator2.evaluate(predictions)\n",
        "print(\"weightedPrecision for Random Forest Classifier:\", weightedPrecision_rf)"
      ],
      "metadata": {
        "colab": {
          "base_uri": "https://localhost:8080/"
        },
        "id": "_-QTDATJu3h8",
        "outputId": "edb809c9-0dd1-409a-b7af-83fb93eede85"
      },
      "execution_count": null,
      "outputs": [
        {
          "output_type": "stream",
          "name": "stdout",
          "text": [
            "weightedPrecision for Random Forest Classifier: 0.7524744759681549\n"
          ]
        }
      ]
    },
    {
      "cell_type": "code",
      "source": [
        "evaluator2 = MulticlassClassificationEvaluator(labelCol=\"label\", predictionCol=\"prediction\",metricName=\"weightedRecall\")\n",
        "weightedRecall_rf = evaluator2.evaluate(predictions)\n",
        "print(\"weightedRecall for Random Forest Classifier:\", weightedRecall_rf)"
      ],
      "metadata": {
        "colab": {
          "base_uri": "https://localhost:8080/"
        },
        "id": "QSkyny2nu0fN",
        "outputId": "58df0d73-df48-4b25-90e5-13a8b331d58c"
      },
      "execution_count": null,
      "outputs": [
        {
          "output_type": "stream",
          "name": "stdout",
          "text": [
            "weightedRecall for Random Forest Classifier: 0.7727952167414052\n"
          ]
        }
      ]
    },
    {
      "cell_type": "code",
      "source": [
        "print(\"Accuracy: \",accuracy2)\n",
        "print(\"f1 for Random Forest Classifier:\", f1_rf)\n",
        "print(\"weightedPrecision for Random Forest Classifier:\", weightedPrecision_rf)\n",
        "print(\"weightedRecall for Random Forest Classifier:\", weightedRecall_rf)"
      ],
      "metadata": {
        "colab": {
          "base_uri": "https://localhost:8080/"
        },
        "id": "dEGTSeriuu5o",
        "outputId": "140646a0-bcc2-40b1-ace4-087007ec67d5"
      },
      "execution_count": null,
      "outputs": [
        {
          "output_type": "stream",
          "name": "stdout",
          "text": [
            "Accuracy:  0.772795216741405\n",
            "f1 for Random Forest Classifier: 0.7450644275837307\n",
            "weightedPrecision for Random Forest Classifier: 0.7524744759681549\n",
            "weightedRecall for Random Forest Classifier: 0.7727952167414052\n"
          ]
        }
      ]
    },
    {
      "cell_type": "markdown",
      "source": [
        "#GBTClassifier"
      ],
      "metadata": {
        "id": "bOmUgHOlH90M"
      }
    },
    {
      "cell_type": "code",
      "source": [
        "\n",
        "gbt = GBTClassifier(labelCol=\"label\", featuresCol=\"features\", maxIter=10)\n",
        "pipeline = Pipeline(stages=[stringIndexer,assembler, gbt])\n"
      ],
      "metadata": {
        "id": "xnD9FUW6I_j2"
      },
      "execution_count": null,
      "outputs": []
    },
    {
      "cell_type": "code",
      "source": [
        "model = pipeline.fit(train_data)\n"
      ],
      "metadata": {
        "id": "DYQfFp1JJMIw"
      },
      "execution_count": null,
      "outputs": []
    },
    {
      "cell_type": "code",
      "source": [
        "predictions = model.transform(test_data)"
      ],
      "metadata": {
        "id": "ynrVsjM5C2zU"
      },
      "execution_count": null,
      "outputs": []
    },
    {
      "cell_type": "code",
      "source": [
        "predictions.select(\"prediction\", \"label\", \"features\").show(5)"
      ],
      "metadata": {
        "colab": {
          "base_uri": "https://localhost:8080/"
        },
        "id": "YXpKggYrC2jN",
        "outputId": "de9ffeb4-7d23-4242-9872-c65e193d5749"
      },
      "execution_count": null,
      "outputs": [
        {
          "output_type": "stream",
          "name": "stdout",
          "text": [
            "+----------+-----+--------------------+\n",
            "|prediction|label|            features|\n",
            "+----------+-----+--------------------+\n",
            "|       1.0|  1.0|      (14,[9],[1.0])|\n",
            "|       0.0|  0.0|[1.0,1.0,1.0,0.0,...|\n",
            "|       1.0|  0.0|(14,[0,1,6,7],[1....|\n",
            "|       0.0|  0.0|[1.0,0.0,1.0,1.0,...|\n",
            "|       0.0|  0.0|(14,[0,5,7,8,9,11...|\n",
            "+----------+-----+--------------------+\n",
            "only showing top 5 rows\n",
            "\n"
          ]
        }
      ]
    },
    {
      "cell_type": "code",
      "source": [
        "evaluator3 = MulticlassClassificationEvaluator(\n",
        "    labelCol=\"label\", predictionCol=\"prediction\", metricName=\"accuracy\")\n",
        "accuracy3 = evaluator3.evaluate(predictions)\n",
        "print(\"Accuracy: \",accuracy3)\n",
        "print(\"Test Error = %g\" % (1.0 - accuracy3))"
      ],
      "metadata": {
        "colab": {
          "base_uri": "https://localhost:8080/"
        },
        "id": "b_eVE13JaOXr",
        "outputId": "6940a305-6342-42a2-c4da-f7613a6584e1"
      },
      "execution_count": null,
      "outputs": [
        {
          "output_type": "stream",
          "name": "stdout",
          "text": [
            "Accuracy:  0.772795216741405\n",
            "Test Error = 0.227205\n"
          ]
        }
      ]
    },
    {
      "cell_type": "code",
      "source": [
        "evaluator3 = MulticlassClassificationEvaluator(labelCol=\"label\", predictionCol=\"prediction\", metricName=\"f1\")\n",
        "f1_gbt = evaluator3.evaluate(predictions)\n",
        "print(\"f1 for GBT Classifier:\", f1_gbt)"
      ],
      "metadata": {
        "colab": {
          "base_uri": "https://localhost:8080/"
        },
        "id": "s0jC8KSct0iy",
        "outputId": "f2437fd6-8476-437f-8a52-bc67b17d7828"
      },
      "execution_count": null,
      "outputs": [
        {
          "output_type": "stream",
          "name": "stdout",
          "text": [
            "f1 for GBT Classifier: 0.758889647835172\n"
          ]
        }
      ]
    },
    {
      "cell_type": "code",
      "source": [
        "evaluator3 = MulticlassClassificationEvaluator(labelCol=\"label\", predictionCol=\"prediction\",metricName=\"weightedPrecision\")\n",
        "weightedPrecision_gbt = evaluator3.evaluate(predictions)\n",
        "print(\"weightedPrecision for GBT Classifier:\", weightedPrecision_gbt)"
      ],
      "metadata": {
        "colab": {
          "base_uri": "https://localhost:8080/"
        },
        "id": "BR76qWWjt-dV",
        "outputId": "06743a62-ed36-410b-df56-8014d6b95ea4"
      },
      "execution_count": null,
      "outputs": [
        {
          "output_type": "stream",
          "name": "stdout",
          "text": [
            "weightedPrecision for GBT Classifier: 0.7561859707331716\n"
          ]
        }
      ]
    },
    {
      "cell_type": "code",
      "source": [
        "evaluator3 = MulticlassClassificationEvaluator(labelCol=\"label\", predictionCol=\"prediction\",metricName=\"weightedRecall\")\n",
        "weightedRecall_gbt = evaluator3.evaluate(predictions)\n",
        "print(\"weightedRecall for GBT Classifier:\", weightedRecall_gbt)"
      ],
      "metadata": {
        "colab": {
          "base_uri": "https://localhost:8080/"
        },
        "id": "p4zdovfQt_vu",
        "outputId": "b5ed4f1e-75de-4ee5-c65d-8730779d2629"
      },
      "execution_count": null,
      "outputs": [
        {
          "output_type": "stream",
          "name": "stdout",
          "text": [
            "weightedRecall for GBT Classifier: 0.772795216741405\n"
          ]
        }
      ]
    },
    {
      "cell_type": "code",
      "source": [
        "print(\"Accuracy: \",accuracy3)\n",
        "print(\"f1 for GBT Classifier:\", f1_gbt)\n",
        "print(\"weightedPrecision for GBT Classifier:\", weightedPrecision_gbt)\n",
        "print(\"weightedRecall for GBT Classifier:\", weightedRecall_gbt)"
      ],
      "metadata": {
        "colab": {
          "base_uri": "https://localhost:8080/"
        },
        "id": "c-wudd8wt-O2",
        "outputId": "db46cfb8-0a4c-45fd-ada2-0229a54cf4cf"
      },
      "execution_count": null,
      "outputs": [
        {
          "output_type": "stream",
          "name": "stdout",
          "text": [
            "Accuracy:  0.772795216741405\n",
            "f1 for GBT Classifier: 0.758889647835172\n",
            "weightedPrecision for GBT Classifier: 0.7561859707331716\n",
            "weightedRecall for GBT Classifier: 0.772795216741405\n"
          ]
        }
      ]
    },
    {
      "cell_type": "markdown",
      "source": [
        "#Logistic Regression Classifier"
      ],
      "metadata": {
        "id": "yaq4VpjqMCmL"
      }
    },
    {
      "cell_type": "code",
      "source": [
        "\n",
        "from pyspark.ml.classification import LogisticRegression"
      ],
      "metadata": {
        "id": "ZGQY-re_MLfr"
      },
      "execution_count": null,
      "outputs": []
    },
    {
      "cell_type": "code",
      "source": [
        "logistic_regression = LogisticRegression(featuresCol=\"features\", labelCol=\"label\")\n",
        "pipeline5 = Pipeline(stages=[stringIndexer,assembler, logistic_regression])"
      ],
      "metadata": {
        "id": "4Pg_bDiTlma_"
      },
      "execution_count": null,
      "outputs": []
    },
    {
      "cell_type": "code",
      "source": [
        "model = pipeline5.fit(train_data)"
      ],
      "metadata": {
        "id": "6c5RdVnjaSc0"
      },
      "execution_count": null,
      "outputs": []
    },
    {
      "cell_type": "code",
      "source": [
        "predictions5 = model.transform(test_data)"
      ],
      "metadata": {
        "id": "kGmfd5KCdJCn"
      },
      "execution_count": null,
      "outputs": []
    },
    {
      "cell_type": "code",
      "source": [
        "predictions5.select(\"prediction\", \"label\", \"features\").show(5)"
      ],
      "metadata": {
        "id": "0KTPVOI6dUFt",
        "colab": {
          "base_uri": "https://localhost:8080/"
        },
        "outputId": "56715215-70e0-40ae-80f1-aab79fbfe1ca"
      },
      "execution_count": null,
      "outputs": [
        {
          "output_type": "stream",
          "name": "stdout",
          "text": [
            "+----------+-----+--------------------+\n",
            "|prediction|label|            features|\n",
            "+----------+-----+--------------------+\n",
            "|       1.0|  1.0|      (14,[9],[1.0])|\n",
            "|       0.0|  0.0|[1.0,1.0,1.0,0.0,...|\n",
            "|       0.0|  0.0|(14,[0,1,6,7],[1....|\n",
            "|       0.0|  0.0|[1.0,0.0,1.0,1.0,...|\n",
            "|       0.0|  0.0|(14,[0,5,7,8,9,11...|\n",
            "+----------+-----+--------------------+\n",
            "only showing top 5 rows\n",
            "\n"
          ]
        }
      ]
    },
    {
      "cell_type": "code",
      "source": [
        "evaluator5 = MulticlassClassificationEvaluator(labelCol=\"label\", predictionCol=\"prediction\", metricName=\"accuracy\")\n",
        "accuracy5 = evaluator5.evaluate(predictions5)\n",
        "print(\"Accuracy: \",accuracy5)\n",
        "print(\"Test Error = %g\" % (1.0 - accuracy5))"
      ],
      "metadata": {
        "id": "Rq5kRFmLflbO",
        "colab": {
          "base_uri": "https://localhost:8080/"
        },
        "outputId": "c1f1b8ec-90ee-4770-de39-5fe5f2eb382c"
      },
      "execution_count": null,
      "outputs": [
        {
          "output_type": "stream",
          "name": "stdout",
          "text": [
            "Accuracy:  0.7658196312904834\n",
            "Test Error = 0.23418\n"
          ]
        }
      ]
    },
    {
      "cell_type": "code",
      "source": [
        "evaluator5 = MulticlassClassificationEvaluator(labelCol=\"label\", predictionCol=\"prediction\", metricName=\"f1\")\n",
        "f1_lr = evaluator5.evaluate(predictions5)\n",
        "print(\"f1 for Logistic Regression Classifier:\", f1_lr)"
      ],
      "metadata": {
        "colab": {
          "base_uri": "https://localhost:8080/"
        },
        "id": "Ks48KomEr0cC",
        "outputId": "47718602-5877-4b5e-e37c-85ffd0654de1"
      },
      "execution_count": null,
      "outputs": [
        {
          "output_type": "stream",
          "name": "stdout",
          "text": [
            "f1 for Logistic Regression Classifier: 0.7311190615367359\n"
          ]
        }
      ]
    },
    {
      "cell_type": "code",
      "source": [
        "evaluator5 = MulticlassClassificationEvaluator(labelCol=\"label\", predictionCol=\"prediction\", metricName=\"weightedPrecision\")\n",
        "weightedPrecision_lr = evaluator5.evaluate(predictions5)\n",
        "print(\"weightedPrecision for Logistic Regression Classifier:\", weightedPrecision_lr)"
      ],
      "metadata": {
        "colab": {
          "base_uri": "https://localhost:8080/"
        },
        "id": "W_9iZieDsVQi",
        "outputId": "f4ed6ae0-8754-4911-b5f3-63c675c9d602"
      },
      "execution_count": null,
      "outputs": [
        {
          "output_type": "stream",
          "name": "stdout",
          "text": [
            "weightedPrecision for Logistic Regression Classifier: 0.742845072399753\n"
          ]
        }
      ]
    },
    {
      "cell_type": "code",
      "source": [
        "evaluator5 = MulticlassClassificationEvaluator(labelCol=\"label\", predictionCol=\"prediction\",metricName=\"weightedRecall\")\n",
        "weightedRecall_lr = evaluator5.evaluate(predictions5)\n",
        "print(\"weightedRecall for Logistic Rgression Classifier:\", weightedRecall_lr)"
      ],
      "metadata": {
        "colab": {
          "base_uri": "https://localhost:8080/"
        },
        "id": "DdC667Jwskfu",
        "outputId": "33b321ce-1a73-4c2e-e86e-f51e8e34d039"
      },
      "execution_count": null,
      "outputs": [
        {
          "output_type": "stream",
          "name": "stdout",
          "text": [
            "weightedRecall for Logistic Rgression Classifier: 0.7658196312904832\n"
          ]
        }
      ]
    },
    {
      "cell_type": "code",
      "source": [
        "print(\"Accuracy: \",accuracy5)\n",
        "print(\"f1 for Logistic Regression Classifier:\", f1_lr)\n",
        "print(\"weightedPrecision for Logistic Regression Classifier:\", weightedPrecision_lr)\n",
        "print(\"weightedRecall for Logistic Regression Classifier:\", weightedRecall_lr)"
      ],
      "metadata": {
        "colab": {
          "base_uri": "https://localhost:8080/"
        },
        "id": "fTTj3I2ztAX2",
        "outputId": "a899f102-a588-458d-b7a8-297d3c60ff50"
      },
      "execution_count": null,
      "outputs": [
        {
          "output_type": "stream",
          "name": "stdout",
          "text": [
            "Accuracy:  0.7658196312904834\n",
            "f1 for Logistic Regression Classifier: 0.7311190615367359\n",
            "weightedPrecision for Logistic Regression Classifier: 0.742845072399753\n",
            "weightedRecall for Logistic Regression Classifier: 0.7658196312904832\n"
          ]
        }
      ]
    },
    {
      "cell_type": "code",
      "source": [
        "print(\"Accuracy of Logistic Regression Classifier: %2f\" % accuracy5)\n",
        "print(\"Accuracy of Decision Tree Classifier: %2f\" %accuracy1)\n",
        "print(\"Accuracy of GBT Classifier: %2f\"%accuracy3)\n",
        "print(\"Accuracy of Random ForestClassifier: %2f\"%accuracy2)"
      ],
      "metadata": {
        "colab": {
          "base_uri": "https://localhost:8080/"
        },
        "id": "bxvoRh1gf0Lv",
        "outputId": "1807c90f-e635-410e-8efd-05a590c9b009"
      },
      "execution_count": null,
      "outputs": [
        {
          "output_type": "stream",
          "name": "stdout",
          "text": [
            "Accuracy of Logistic Regression Classifier: 0.765820\n",
            "Accuracy of Decision Tree Classifier: 0.765321\n",
            "Accuracy of GBT Classifier: 0.772795\n",
            "Accuracy of Random ForestClassifier: 0.772795\n"
          ]
        }
      ]
    },
    {
      "cell_type": "code",
      "source": [],
      "metadata": {
        "id": "x_ywuPbjfmmf",
        "colab": {
          "base_uri": "https://localhost:8080/"
        },
        "outputId": "47a4b36e-7e1c-47cf-8ad6-4cce0f9595de"
      },
      "execution_count": null,
      "outputs": [
        {
          "output_type": "stream",
          "name": "stdout",
          "text": [
            "f1 for Decision Tree Classifier: 0.7458719582506969\n",
            "f1 for Random Forest Classifier: 0.7450644275837307\n",
            "f1 for GBT Classifier: 0.758889647835172\n",
            "f1 for Logistic Regression Classifier: 0.7311190615367359\n"
          ]
        }
      ]
    },
    {
      "cell_type": "code",
      "source": [],
      "metadata": {
        "id": "Ue1OQnXGdDKB"
      },
      "execution_count": null,
      "outputs": []
    },
    {
      "cell_type": "code",
      "source": [],
      "metadata": {
        "id": "geOM1qUpf6du"
      },
      "execution_count": null,
      "outputs": []
    },
    {
      "cell_type": "code",
      "source": [],
      "metadata": {
        "id": "GICe0CH2hJ50"
      },
      "execution_count": null,
      "outputs": []
    },
    {
      "cell_type": "code",
      "source": [],
      "metadata": {
        "id": "I9uNuI2Iplzk"
      },
      "execution_count": null,
      "outputs": []
    },
    {
      "cell_type": "code",
      "source": [],
      "metadata": {
        "id": "sqkH52Z6p-Qg"
      },
      "execution_count": null,
      "outputs": []
    }
  ]
}